{
 "cells": [
  {
   "cell_type": "code",
   "execution_count": 1,
   "metadata": {},
   "outputs": [],
   "source": [
    "import time\n",
    "from concurrent.futures import ThreadPoolExecutor\n",
    "from multiprocessing import Pool\n",
    "\n",
    "def formula_1(x: int) -> int:\n",
    "    return x**2 - x**2 + x*4 - x*5 + x + x\n",
    "\n",
    "def formula_2(x: int) -> int:\n",
    "    return x + x"
   ]
  },
  {
   "cell_type": "code",
   "execution_count": 2,
   "metadata": {},
   "outputs": [],
   "source": [
    "def compute_step(formula, iterations: int) -> tuple[int, float]:\n",
    "    start_time = time.time()\n",
    "    result = sum(formula(x) for x in range(iterations))\n",
    "    duration = time.time() - start_time\n",
    "    return result, duration"
   ]
  },
  {
   "cell_type": "code",
   "execution_count": 3,
   "metadata": {},
   "outputs": [],
   "source": [
    "def parallel_computations(iterations: int) -> tuple[float, float, float]:\n",
    "    with ThreadPoolExecutor(max_workers=2) as executor:\n",
    "        future1 = executor.submit(compute_step, formula_1, iterations)\n",
    "        future2 = executor.submit(compute_step, formula_2, iterations)\n",
    "        \n",
    "        result1, duration1 = future1.result()\n",
    "        result2, duration2 = future2.result()\n",
    "\n",
    "    start_time_step3 = time.time()\n",
    "    result3 = result1 + result2\n",
    "    duration3 = time.time() - start_time_step3\n",
    "\n",
    "    return duration1, duration2, duration3\n"
   ]
  },
  {
   "cell_type": "code",
   "execution_count": 4,
   "metadata": {},
   "outputs": [
    {
     "name": "stdout",
     "output_type": "stream",
     "text": [
      "\n",
      "Итерации: 10000\n",
      "Длительность шага 1: 0.001232 секунд\n",
      "Длительность шага 2: 0.000570 секунд\n",
      "Длительность шага 3: 0.000000 секунд\n",
      "\n",
      "Итерации: 100000\n",
      "Длительность шага 1: 0.020265 секунд\n",
      "Длительность шага 2: 0.008279 секунд\n",
      "Длительность шага 3: 0.000000 секунд\n",
      "\n",
      "Итерации: 23232312\n",
      "Длительность шага 1: 3.917528 секунд\n",
      "Длительность шага 2: 2.245714 секунд\n",
      "Длительность шага 3: 0.000000 секунд\n"
     ]
    }
   ],
   "source": [
    "iterations_list = [10000, 100000, 23232312] # добавил 3 вариант по приколу чтобы проверить\n",
    "\n",
    "for iterations in iterations_list:\n",
    "    duration1, duration2, duration3 = parallel_computations(iterations)\n",
    "    print(f\"\\nИтерации: {iterations}\")\n",
    "    print(f\"Длительность шага 1: {duration1:.6f} секунд\")\n",
    "    print(f\"Длительность шага 2: {duration2:.6f} секунд\")\n",
    "    print(f\"Длительность шага 3: {duration3:.6f} секунд\")"
   ]
  }
 ],
 "metadata": {
  "kernelspec": {
   "display_name": "base",
   "language": "python",
   "name": "python3"
  },
  "language_info": {
   "codemirror_mode": {
    "name": "ipython",
    "version": 3
   },
   "file_extension": ".py",
   "mimetype": "text/x-python",
   "name": "python",
   "nbconvert_exporter": "python",
   "pygments_lexer": "ipython3",
   "version": "3.12.4"
  }
 },
 "nbformat": 4,
 "nbformat_minor": 2
}
