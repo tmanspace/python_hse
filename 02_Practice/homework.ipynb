{
 "cells": [
  {
   "cell_type": "code",
   "execution_count": 7,
   "metadata": {},
   "outputs": [],
   "source": [
    "# ДЗ 2 – задача №1"
   ]
  },
  {
   "cell_type": "code",
   "execution_count": 8,
   "metadata": {},
   "outputs": [],
   "source": [
    "from datetime import datetime\n",
    "\n",
    "def parse_date_moscow_times(date_str: str) -> datetime:\n",
    "    return datetime.strptime(date_str, \"%A, %B %d, %Y\")\n",
    "\n",
    "def parse_date_guardian(date_str: str) -> datetime:\n",
    "    return datetime.strptime(date_str, \"%A, %d.%m.%y\")\n",
    "\n",
    "def parse_date_daily_news(date_str: str) -> datetime:\n",
    "    return datetime.strptime(date_str, \"%A, %d %B %Y\")"
   ]
  },
  {
   "cell_type": "code",
   "execution_count": 9,
   "metadata": {},
   "outputs": [],
   "source": [
    "moscow_times_date = parse_date_moscow_times(\"Wednesday, October 2, 2002\")\n",
    "guardian_date = parse_date_guardian(\"Friday, 11.10.13\")\n",
    "daily_news_date = parse_date_daily_news(\"Thursday, 18 August 1977\")"
   ]
  },
  {
   "cell_type": "code",
   "execution_count": 10,
   "metadata": {},
   "outputs": [
    {
     "data": {
      "text/plain": [
       "(datetime.datetime(2002, 10, 2, 0, 0),\n",
       " datetime.datetime(2013, 10, 11, 0, 0),\n",
       " datetime.datetime(1977, 8, 18, 0, 0))"
      ]
     },
     "execution_count": 10,
     "metadata": {},
     "output_type": "execute_result"
    }
   ],
   "source": [
    "moscow_times_date, guardian_date, daily_news_date"
   ]
  },
  {
   "cell_type": "code",
   "execution_count": 11,
   "metadata": {},
   "outputs": [],
   "source": [
    "# Задачи из курса до основного"
   ]
  },
  {
   "cell_type": "code",
   "execution_count": 12,
   "metadata": {},
   "outputs": [
    {
     "name": "stdout",
     "output_type": "stream",
     "text": [
      "es t\n",
      "Результат:\n",
      "Идеальные пары:\n",
      "Alex и Emma\n",
      "Arthur и Kate\n",
      "John и Kira\n",
      "Peter и Liza\n",
      "Richard и Trisha\n",
      "Результат:\n",
      "Внимание, кто-то может остаться без пары!\n"
     ]
    }
   ],
   "source": [
    "def get_median_letters(w: str) -> str:\n",
    "    n = len(w)\n",
    "    if not n:\n",
    "        return ''\n",
    "    mid_idx = n // 2\n",
    "    return w[mid_idx-1:mid_idx+1] if not n % 2 else w[mid_idx]\n",
    "\n",
    "test1 = 'test'\n",
    "test2 = 't'\n",
    "print(get_median_letters(test1), get_median_letters(test2))\n",
    "\n",
    "\n",
    "def get_matchings(boys: list[str], girls: list[str]) -> str:\n",
    "    match_str = ['Результат:']\n",
    "    b_len, g_len = len(boys), len(girls)\n",
    "    if b_len != g_len:\n",
    "        match_str.append('Внимание, кто-то может остаться без пары!')\n",
    "        return '\\n'.join(match_str)\n",
    "    boys.sort()\n",
    "    girls.sort()\n",
    "    match_str.append('Идеальные пары:')\n",
    "    for i in range(b_len):\n",
    "        match_str.append(f'{boys[i]} и {girls[i]}')\n",
    "    return '\\n'.join(match_str)\n",
    "\n",
    "boys = ['Peter', 'Alex', 'John', 'Arthur', 'Richard']\n",
    "girls = ['Kate', 'Liza', 'Kira', 'Emma', 'Trisha']\n",
    "\n",
    "print(get_matchings(boys, girls))\n",
    "\n",
    "boys1 = ['Peter', 'Alex', 'John', 'Arthur',\n",
    "'Richard', 'Michael']\n",
    "girls2 = ['Kate', 'Liza', 'Kira', 'Emma',\n",
    "'Trisha']\n",
    "\n",
    "print(get_matchings(boys1, girls2))\n"
   ]
  },
  {
   "cell_type": "code",
   "execution_count": 13,
   "metadata": {},
   "outputs": [
    {
     "name": "stdout",
     "output_type": "stream",
     "text": [
      "Результат:\n",
      "{98, 35, 15, 213, 54, 119}\n",
      "Результат\n",
      "Поисковых запросов, содержащих 3 слов(а): 57.14\n",
      "Поисковых запросов, содержащих 2 слов(а): 42.86\n"
     ]
    }
   ],
   "source": [
    "\n",
    "ids = {\n",
    "    'user1': [213, 213, 213, 15, 213],\n",
    "    'user2': [54, 54, 119, 119, 119],\n",
    "    'user3': [213, 98, 98, 35],\n",
    "    }\n",
    "\n",
    "def get_unique_ids(user_ids: dict[str, int]) -> set[int]:\n",
    "    res = set()\n",
    "    for id_list in user_ids.values():\n",
    "        res.update(id_list)\n",
    "    return res\n",
    "\n",
    "print('Результат:')\n",
    "print(get_unique_ids(ids))\n",
    "\n",
    "# Результат: {98, 35, 15, 213, 54, 119}\n",
    "\n",
    "queries = [\n",
    "    'смотреть сериалы онлайн',\n",
    "    'новости спорта',\n",
    "    'афиша кино',\n",
    "    'курс доллара',\n",
    "    'сериалы этим летом',\n",
    "    'курс по питону',\n",
    "    'сериалы про спорт',\n",
    "]\n",
    "\n",
    "def get_queries_dis_str(queries: list[str]) -> str:\n",
    "    result = {}\n",
    "    queries_len = len(queries)\n",
    "    for q in queries:\n",
    "        query_len = len(q.split(' '))\n",
    "        if not result.get(query_len):\n",
    "            result[query_len] = 0\n",
    "        result[query_len] += 1\n",
    "    res_str = ['Результат']\n",
    "    for k, _ in result.items():\n",
    "        result[k] = result[k] / queries_len * 100\n",
    "        res_str.append(f'Поисковых запросов, содержащих {k} слов(а): {result[k]:.2f}')\n",
    "    return '\\n'.join(res_str)\n",
    "\n",
    "print(get_queries_dis_str(queries))    \n",
    "\n",
    "# Результат:\n",
    "# Поисковых запросов, содержащих 2 слов(а): 42.86%\n",
    "# Поисковых запросов, содержащих 3 слов(а): 57.14%"
   ]
  }
 ],
 "metadata": {
  "kernelspec": {
   "display_name": "base",
   "language": "python",
   "name": "python3"
  },
  "language_info": {
   "codemirror_mode": {
    "name": "ipython",
    "version": 3
   },
   "file_extension": ".py",
   "mimetype": "text/x-python",
   "name": "python",
   "nbconvert_exporter": "python",
   "pygments_lexer": "ipython3",
   "version": "3.12.4"
  }
 },
 "nbformat": 4,
 "nbformat_minor": 2
}
