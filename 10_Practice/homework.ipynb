{
 "cells": [
  {
   "cell_type": "code",
   "execution_count": 33,
   "metadata": {},
   "outputs": [],
   "source": [
    "import pandas as pd\n",
    "from sdv.single_table import GaussianCopulaSynthesizer\n",
    "from sdv.metadata import Metadata \n",
    "from pyspark.sql import SparkSession\n",
    "from pyspark.sql.functions import col, min, max, unix_timestamp\n",
    "import time\n"
   ]
  },
  {
   "cell_type": "code",
   "execution_count": 29,
   "metadata": {},
   "outputs": [],
   "source": [
    "df = pd.read_csv('electronic_devices.csv')\n",
    "\n",
    "metadata = Metadata.detect_from_dataframe(df, table_name='electronic_devices')\n",
    "# metadata.save_to_json(filepath='electronic_devices_v1.json')\n"
   ]
  },
  {
   "cell_type": "code",
   "execution_count": 31,
   "metadata": {},
   "outputs": [],
   "source": [
    "synthesizer = GaussianCopulaSynthesizer(metadata)\n",
    "synthesizer.fit(data=df)"
   ]
  },
  {
   "cell_type": "code",
   "execution_count": 32,
   "metadata": {},
   "outputs": [
    {
     "name": "stderr",
     "output_type": "stream",
     "text": [
      "Sampling rows: 100%|██████████| 1000000/1000000 [00:30<00:00, 32723.79it/s]\n"
     ]
    },
    {
     "data": {
      "text/html": [
       "<div>\n",
       "<style scoped>\n",
       "    .dataframe tbody tr th:only-of-type {\n",
       "        vertical-align: middle;\n",
       "    }\n",
       "\n",
       "    .dataframe tbody tr th {\n",
       "        vertical-align: top;\n",
       "    }\n",
       "\n",
       "    .dataframe thead th {\n",
       "        text-align: right;\n",
       "    }\n",
       "</style>\n",
       "<table border=\"1\" class=\"dataframe\">\n",
       "  <thead>\n",
       "    <tr style=\"text-align: right;\">\n",
       "      <th></th>\n",
       "      <th>customer_id</th>\n",
       "      <th>age</th>\n",
       "      <th>gender</th>\n",
       "      <th>loyalty_member</th>\n",
       "      <th>product_type</th>\n",
       "      <th>sku</th>\n",
       "      <th>rating</th>\n",
       "      <th>order_status</th>\n",
       "      <th>payment_method</th>\n",
       "      <th>total_price</th>\n",
       "      <th>unit_price</th>\n",
       "      <th>quantity</th>\n",
       "      <th>purchase_date</th>\n",
       "      <th>shipping_type</th>\n",
       "      <th>addons</th>\n",
       "      <th>addons_cnt</th>\n",
       "    </tr>\n",
       "  </thead>\n",
       "  <tbody>\n",
       "    <tr>\n",
       "      <th>0</th>\n",
       "      <td>12207</td>\n",
       "      <td>33</td>\n",
       "      <td>Female</td>\n",
       "      <td>No</td>\n",
       "      <td>Headphones</td>\n",
       "      <td>TBL345</td>\n",
       "      <td>3</td>\n",
       "      <td>Cancelled</td>\n",
       "      <td>PayPal</td>\n",
       "      <td>2345.66</td>\n",
       "      <td>301.26</td>\n",
       "      <td>10</td>\n",
       "      <td>2024-05-10</td>\n",
       "      <td>Expedited</td>\n",
       "      <td>Extended Warranty, Impulse Item, Accessory</td>\n",
       "      <td>47.67</td>\n",
       "    </tr>\n",
       "    <tr>\n",
       "      <th>1</th>\n",
       "      <td>16280</td>\n",
       "      <td>43</td>\n",
       "      <td>Female</td>\n",
       "      <td>No</td>\n",
       "      <td>Smartphone</td>\n",
       "      <td>SKU1003</td>\n",
       "      <td>5</td>\n",
       "      <td>Completed</td>\n",
       "      <td>Debit Card</td>\n",
       "      <td>3144.41</td>\n",
       "      <td>739.83</td>\n",
       "      <td>2</td>\n",
       "      <td>2024-09-08</td>\n",
       "      <td>Expedited</td>\n",
       "      <td>Impulse Item,Accessory,Extended Warranty</td>\n",
       "      <td>35.26</td>\n",
       "    </tr>\n",
       "    <tr>\n",
       "      <th>2</th>\n",
       "      <td>11924</td>\n",
       "      <td>73</td>\n",
       "      <td>Male</td>\n",
       "      <td>No</td>\n",
       "      <td>Laptop</td>\n",
       "      <td>SMP234</td>\n",
       "      <td>2</td>\n",
       "      <td>Completed</td>\n",
       "      <td>Cash</td>\n",
       "      <td>4033.30</td>\n",
       "      <td>1063.98</td>\n",
       "      <td>5</td>\n",
       "      <td>2024-09-12</td>\n",
       "      <td>Same Day</td>\n",
       "      <td>Accessory, Accessory</td>\n",
       "      <td>75.75</td>\n",
       "    </tr>\n",
       "    <tr>\n",
       "      <th>3</th>\n",
       "      <td>3878</td>\n",
       "      <td>49</td>\n",
       "      <td>Female</td>\n",
       "      <td>No</td>\n",
       "      <td>Laptop</td>\n",
       "      <td>LTP123</td>\n",
       "      <td>2</td>\n",
       "      <td>Completed</td>\n",
       "      <td>Credit Card</td>\n",
       "      <td>2956.60</td>\n",
       "      <td>220.16</td>\n",
       "      <td>2</td>\n",
       "      <td>2024-03-31</td>\n",
       "      <td>Same Day</td>\n",
       "      <td>Impulse Item, Extended Warranty, Extended Warr...</td>\n",
       "      <td>1.02</td>\n",
       "    </tr>\n",
       "    <tr>\n",
       "      <th>4</th>\n",
       "      <td>1628</td>\n",
       "      <td>58</td>\n",
       "      <td>Female</td>\n",
       "      <td>No</td>\n",
       "      <td>Laptop</td>\n",
       "      <td>SKU1004</td>\n",
       "      <td>5</td>\n",
       "      <td>Cancelled</td>\n",
       "      <td>Credit Card</td>\n",
       "      <td>3717.24</td>\n",
       "      <td>879.88</td>\n",
       "      <td>3</td>\n",
       "      <td>2023-11-22</td>\n",
       "      <td>Express</td>\n",
       "      <td>NaN</td>\n",
       "      <td>2.97</td>\n",
       "    </tr>\n",
       "    <tr>\n",
       "      <th>...</th>\n",
       "      <td>...</td>\n",
       "      <td>...</td>\n",
       "      <td>...</td>\n",
       "      <td>...</td>\n",
       "      <td>...</td>\n",
       "      <td>...</td>\n",
       "      <td>...</td>\n",
       "      <td>...</td>\n",
       "      <td>...</td>\n",
       "      <td>...</td>\n",
       "      <td>...</td>\n",
       "      <td>...</td>\n",
       "      <td>...</td>\n",
       "      <td>...</td>\n",
       "      <td>...</td>\n",
       "      <td>...</td>\n",
       "    </tr>\n",
       "    <tr>\n",
       "      <th>999995</th>\n",
       "      <td>7111</td>\n",
       "      <td>59</td>\n",
       "      <td>Female</td>\n",
       "      <td>No</td>\n",
       "      <td>Laptop</td>\n",
       "      <td>SMP234</td>\n",
       "      <td>2</td>\n",
       "      <td>Completed</td>\n",
       "      <td>Bank Transfer</td>\n",
       "      <td>1465.85</td>\n",
       "      <td>515.44</td>\n",
       "      <td>1</td>\n",
       "      <td>2024-09-01</td>\n",
       "      <td>Standard</td>\n",
       "      <td>Extended Warranty</td>\n",
       "      <td>7.82</td>\n",
       "    </tr>\n",
       "    <tr>\n",
       "      <th>999996</th>\n",
       "      <td>1185</td>\n",
       "      <td>57</td>\n",
       "      <td>Male</td>\n",
       "      <td>No</td>\n",
       "      <td>Smartwatch</td>\n",
       "      <td>SKU1004</td>\n",
       "      <td>2</td>\n",
       "      <td>Cancelled</td>\n",
       "      <td>Credit Card</td>\n",
       "      <td>2261.26</td>\n",
       "      <td>536.00</td>\n",
       "      <td>4</td>\n",
       "      <td>2024-07-04</td>\n",
       "      <td>Same Day</td>\n",
       "      <td>Accessory</td>\n",
       "      <td>0.04</td>\n",
       "    </tr>\n",
       "    <tr>\n",
       "      <th>999997</th>\n",
       "      <td>3741</td>\n",
       "      <td>53</td>\n",
       "      <td>Male</td>\n",
       "      <td>No</td>\n",
       "      <td>Tablet</td>\n",
       "      <td>SKU1005</td>\n",
       "      <td>5</td>\n",
       "      <td>Completed</td>\n",
       "      <td>Paypal</td>\n",
       "      <td>120.45</td>\n",
       "      <td>131.05</td>\n",
       "      <td>1</td>\n",
       "      <td>2024-06-15</td>\n",
       "      <td>Express</td>\n",
       "      <td>Extended Warranty, Extended Warranty, Impulse ...</td>\n",
       "      <td>31.99</td>\n",
       "    </tr>\n",
       "    <tr>\n",
       "      <th>999998</th>\n",
       "      <td>19661</td>\n",
       "      <td>47</td>\n",
       "      <td>Female</td>\n",
       "      <td>No</td>\n",
       "      <td>Headphones</td>\n",
       "      <td>HDP456</td>\n",
       "      <td>3</td>\n",
       "      <td>Completed</td>\n",
       "      <td>Paypal</td>\n",
       "      <td>11337.56</td>\n",
       "      <td>1139.68</td>\n",
       "      <td>9</td>\n",
       "      <td>2024-07-06</td>\n",
       "      <td>Expedited</td>\n",
       "      <td>Accessory, Accessory, Accessory</td>\n",
       "      <td>101.58</td>\n",
       "    </tr>\n",
       "    <tr>\n",
       "      <th>999999</th>\n",
       "      <td>8484</td>\n",
       "      <td>56</td>\n",
       "      <td>Female</td>\n",
       "      <td>Yes</td>\n",
       "      <td>Smartphone</td>\n",
       "      <td>SKU1001</td>\n",
       "      <td>1</td>\n",
       "      <td>Completed</td>\n",
       "      <td>Credit Card</td>\n",
       "      <td>252.06</td>\n",
       "      <td>215.90</td>\n",
       "      <td>9</td>\n",
       "      <td>2024-08-28</td>\n",
       "      <td>Overnight</td>\n",
       "      <td>NaN</td>\n",
       "      <td>9.78</td>\n",
       "    </tr>\n",
       "  </tbody>\n",
       "</table>\n",
       "<p>1000000 rows × 16 columns</p>\n",
       "</div>"
      ],
      "text/plain": [
       "        customer_id  age  gender loyalty_member product_type      sku  rating  \\\n",
       "0             12207   33  Female             No   Headphones   TBL345       3   \n",
       "1             16280   43  Female             No   Smartphone  SKU1003       5   \n",
       "2             11924   73    Male             No       Laptop   SMP234       2   \n",
       "3              3878   49  Female             No       Laptop   LTP123       2   \n",
       "4              1628   58  Female             No       Laptop  SKU1004       5   \n",
       "...             ...  ...     ...            ...          ...      ...     ...   \n",
       "999995         7111   59  Female             No       Laptop   SMP234       2   \n",
       "999996         1185   57    Male             No   Smartwatch  SKU1004       2   \n",
       "999997         3741   53    Male             No       Tablet  SKU1005       5   \n",
       "999998        19661   47  Female             No   Headphones   HDP456       3   \n",
       "999999         8484   56  Female            Yes   Smartphone  SKU1001       1   \n",
       "\n",
       "       order_status payment_method  total_price  unit_price  quantity  \\\n",
       "0         Cancelled         PayPal      2345.66      301.26        10   \n",
       "1         Completed     Debit Card      3144.41      739.83         2   \n",
       "2         Completed           Cash      4033.30     1063.98         5   \n",
       "3         Completed    Credit Card      2956.60      220.16         2   \n",
       "4         Cancelled    Credit Card      3717.24      879.88         3   \n",
       "...             ...            ...          ...         ...       ...   \n",
       "999995    Completed  Bank Transfer      1465.85      515.44         1   \n",
       "999996    Cancelled    Credit Card      2261.26      536.00         4   \n",
       "999997    Completed         Paypal       120.45      131.05         1   \n",
       "999998    Completed         Paypal     11337.56     1139.68         9   \n",
       "999999    Completed    Credit Card       252.06      215.90         9   \n",
       "\n",
       "       purchase_date shipping_type  \\\n",
       "0         2024-05-10     Expedited   \n",
       "1         2024-09-08     Expedited   \n",
       "2         2024-09-12      Same Day   \n",
       "3         2024-03-31      Same Day   \n",
       "4         2023-11-22       Express   \n",
       "...              ...           ...   \n",
       "999995    2024-09-01      Standard   \n",
       "999996    2024-07-04      Same Day   \n",
       "999997    2024-06-15       Express   \n",
       "999998    2024-07-06     Expedited   \n",
       "999999    2024-08-28     Overnight   \n",
       "\n",
       "                                                   addons  addons_cnt  \n",
       "0              Extended Warranty, Impulse Item, Accessory       47.67  \n",
       "1                Impulse Item,Accessory,Extended Warranty       35.26  \n",
       "2                                    Accessory, Accessory       75.75  \n",
       "3       Impulse Item, Extended Warranty, Extended Warr...        1.02  \n",
       "4                                                     NaN        2.97  \n",
       "...                                                   ...         ...  \n",
       "999995                                  Extended Warranty        7.82  \n",
       "999996                                          Accessory        0.04  \n",
       "999997  Extended Warranty, Extended Warranty, Impulse ...       31.99  \n",
       "999998                    Accessory, Accessory, Accessory      101.58  \n",
       "999999                                                NaN        9.78  \n",
       "\n",
       "[1000000 rows x 16 columns]"
      ]
     },
     "execution_count": 32,
     "metadata": {},
     "output_type": "execute_result"
    }
   ],
   "source": [
    "synthetic_data = synthesizer.sample(\n",
    "    num_rows=1_000_000,\n",
    "    batch_size=1_000\n",
    ")\n",
    "\n",
    "synthetic_data"
   ]
  },
  {
   "cell_type": "code",
   "execution_count": 35,
   "metadata": {},
   "outputs": [],
   "source": [
    "synthetic_data.to_csv('synthetic_generated_data.csv', index=False)"
   ]
  },
  {
   "cell_type": "code",
   "execution_count": 34,
   "metadata": {},
   "outputs": [
    {
     "name": "stderr",
     "output_type": "stream",
     "text": [
      "Setting default log level to \"WARN\".\n",
      "To adjust logging level use sc.setLogLevel(newLevel). For SparkR, use setLogLevel(newLevel).\n",
      "24/12/01 21:49:39 WARN NativeCodeLoader: Unable to load native-hadoop library for your platform... using builtin-java classes where applicable\n"
     ]
    }
   ],
   "source": [
    "spark = SparkSession.builder.master(\"local[*]\").appName(\"DataAggregation\").getOrCreate()"
   ]
  },
  {
   "cell_type": "code",
   "execution_count": 36,
   "metadata": {},
   "outputs": [
    {
     "name": "stderr",
     "output_type": "stream",
     "text": [
      "                                                                                \r"
     ]
    }
   ],
   "source": [
    "data = spark.read.csv('synthetic_generated_data.csv', header=True, inferSchema=True)"
   ]
  },
  {
   "cell_type": "code",
   "execution_count": null,
   "metadata": {},
   "outputs": [],
   "source": [
    "data = data.withColumn(\"purchase_date\", unix_timestamp(\"purchase_date\", \"yyyy-MM-dd\").cast(\"timestamp\"))"
   ]
  },
  {
   "cell_type": "code",
   "execution_count": 41,
   "metadata": {},
   "outputs": [
    {
     "data": {
      "text/plain": [
       "Row(customer_id=17296, age=64, gender='Female', loyalty_member='No', product_type='Tablet', sku='HDP456', rating=4, order_status='Completed', payment_method='Paypal', total_price=644.0, unit_price=774.88, quantity=2, purchase_date=datetime.datetime(2024, 9, 3, 0, 0), shipping_type='Expedited', addons='Accessory', addons_cnt=3.62)"
      ]
     },
     "execution_count": 41,
     "metadata": {},
     "output_type": "execute_result"
    }
   ],
   "source": [
    "filtered_data = data.filter(\n",
    "    (col('purchase_date') == '2024-09-03') &\n",
    "    (col('addons').isNotNull()) &\n",
    "    (col('addons').rlike('^[^,]+$'))\n",
    ")\n",
    "filtered_data.head()"
   ]
  },
  {
   "cell_type": "code",
   "execution_count": 45,
   "metadata": {},
   "outputs": [
    {
     "name": "stdout",
     "output_type": "stream",
     "text": [
      "+--------------+--------------+---------------+---------------+---------------+----------------+\n",
      "|min_unit_price|max_unit_price|unit_price_diff|min_total_price|max_total_price|total_price_diff|\n",
      "+--------------+--------------+---------------+---------------+---------------+----------------+\n",
      "|        124.47|       1139.68|        1015.21|          22.08|        11396.8|        11374.72|\n",
      "+--------------+--------------+---------------+---------------+---------------+----------------+\n",
      "\n"
     ]
    }
   ],
   "source": [
    "price_diff_data = filtered_data.select(\n",
    "    min('unit_price').alias('min_unit_price'),\n",
    "    max('unit_price').alias('max_unit_price'),\n",
    "    (max('unit_price') - min('unit_price')).alias('unit_price_diff'),\n",
    "    min('total_price').alias('min_total_price'),\n",
    "    max('total_price').alias('max_total_price'),\n",
    "    (max('total_price') - min('total_price')).alias('total_price_diff')\n",
    ")\n",
    "price_diff_data.show()"
   ]
  },
  {
   "cell_type": "code",
   "execution_count": 44,
   "metadata": {},
   "outputs": [
    {
     "name": "stdout",
     "output_type": "stream",
     "text": [
      "+------+--------------+--------------+---------------+---------------+---------------+----------------+\n",
      "|gender|min_unit_price|max_unit_price|unit_price_diff|min_total_price|max_total_price|total_price_diff|\n",
      "+------+--------------+--------------+---------------+---------------+---------------+----------------+\n",
      "|Female|        124.84|       1139.68|        1014.84|          22.08|        11396.8|        11374.72|\n",
      "|  Male|        124.47|       1139.66|        1015.19|          22.63|        11396.8|        11374.17|\n",
      "+------+--------------+--------------+---------------+---------------+---------------+----------------+\n",
      "\n"
     ]
    }
   ],
   "source": [
    "grouped_data_gender = filtered_data.groupBy(\"gender\").agg(\n",
    "    min('unit_price').alias('min_unit_price'),\n",
    "    max('unit_price').alias('max_unit_price'),\n",
    "    (max('unit_price') - min('unit_price')).alias('unit_price_diff'),\n",
    "    min('total_price').alias('min_total_price'),\n",
    "    max('total_price').alias('max_total_price'),\n",
    "    (max('total_price') - min('total_price')).alias('total_price_diff')\n",
    ")\n",
    "grouped_data_gender.show()"
   ]
  },
  {
   "cell_type": "code",
   "execution_count": 50,
   "metadata": {},
   "outputs": [
    {
     "name": "stdout",
     "output_type": "stream",
     "text": [
      "+---+--------------+--------------+------------------+---------------+---------------+------------------+\n",
      "|age|min_unit_price|max_unit_price|   unit_price_diff|min_total_price|max_total_price|  total_price_diff|\n",
      "+---+--------------+--------------+------------------+---------------+---------------+------------------+\n",
      "| 19|        694.62|       1101.17|406.55000000000007|         221.86|       10610.57|          10388.71|\n",
      "| 20|        127.14|       1116.98|            989.84|          71.53|        6785.45|           6713.92|\n",
      "| 21|        181.03|       1137.69| 956.6600000000001|         629.43|        8136.03| 7506.599999999999|\n",
      "| 22|        138.85|        1134.4| 995.5500000000001|          404.4|        7863.89| 7459.490000000001|\n",
      "| 23|        124.84|       1134.69|           1009.85|          29.36|        9873.19|           9843.83|\n",
      "| 24|        313.13|       1139.68| 826.5500000000001|        1047.24|       10719.56|           9672.32|\n",
      "| 25|        158.54|       1087.19| 928.6500000000001|          24.51|        5618.03|5593.5199999999995|\n",
      "| 26|        133.42|        1124.3|            990.88|          81.31|         6420.3|           6338.99|\n",
      "| 27|        130.66|       1139.68|1009.0200000000001|         429.89|        11396.8|          10966.91|\n",
      "| 28|        203.86|       1132.42| 928.5600000000001|         365.64|        7628.99| 7263.349999999999|\n",
      "| 29|        188.45|       1040.26|            851.81|         898.91|         3090.0|           2191.09|\n",
      "| 30|        237.15|       1139.65| 902.5000000000001|        1142.77|        11003.5|           9860.73|\n",
      "| 31|         314.9|       1137.68| 822.7800000000001|         580.01|       10305.63| 9725.619999999999|\n",
      "| 32|        129.64|       1033.83| 904.1899999999999|          22.63|        8471.64|           8449.01|\n",
      "| 33|        208.39|       1097.59| 889.1999999999999|           37.9|        6486.15|           6448.25|\n",
      "| 34|        219.06|       1139.46| 920.4000000000001|         295.65|        9771.56|           9475.91|\n",
      "| 35|         136.4|       1051.43| 915.0300000000001|         585.12|        6299.25|           5714.13|\n",
      "| 36|        174.68|       1136.04| 961.3599999999999|         156.41|       10531.67|          10375.26|\n",
      "| 37|        354.06|       1073.36|             719.3|         237.58|       10540.47|          10302.89|\n",
      "| 38|        163.76|       1127.89| 964.1300000000001|         298.49|        9421.13|           9122.64|\n",
      "+---+--------------+--------------+------------------+---------------+---------------+------------------+\n",
      "only showing top 20 rows\n",
      "\n"
     ]
    }
   ],
   "source": [
    "grouped_data_age = filtered_data.groupBy(\"age\").agg(\n",
    "    min('unit_price').alias('min_unit_price'),\n",
    "    max('unit_price').alias('max_unit_price'),\n",
    "    (max('unit_price') - min('unit_price')).alias('unit_price_diff'),\n",
    "    min('total_price').alias('min_total_price'),\n",
    "    max('total_price').alias('max_total_price'),\n",
    "    (max('total_price') - min('total_price')).alias('total_price_diff')\n",
    ").orderBy(\"age\")\n",
    "grouped_data_age.show()"
   ]
  },
  {
   "cell_type": "code",
   "execution_count": 57,
   "metadata": {},
   "outputs": [
    {
     "name": "stdout",
     "output_type": "stream",
     "text": [
      "+------+---+--------------+--------------+------------------+---------------+---------------+------------------+\n",
      "|gender|age|min_unit_price|max_unit_price|   unit_price_diff|min_total_price|max_total_price|  total_price_diff|\n",
      "+------+---+--------------+--------------+------------------+---------------+---------------+------------------+\n",
      "|Female| 19|        972.06|       1101.17|129.11000000000013|        6649.99|       10610.57|           3960.58|\n",
      "|  Male| 19|        694.62|        694.62|               0.0|         221.86|         221.86|               0.0|\n",
      "|Female| 20|        127.14|       1116.98|            989.84|         281.07|        6785.45|           6504.38|\n",
      "|  Male| 20|        659.87|        991.55|331.67999999999995|          71.53|        5045.73|            4974.2|\n",
      "|  Male| 21|        181.03|       1137.69| 956.6600000000001|         629.43|        8136.03| 7506.599999999999|\n",
      "|Female| 21|        863.64|        863.64|               0.0|        4918.55|        4918.55|               0.0|\n",
      "|  Male| 22|        138.85|        1134.4| 995.5500000000001|          404.4|        7863.89| 7459.490000000001|\n",
      "|Female| 23|        124.84|        892.72|            767.88|          29.36|         6376.3|6346.9400000000005|\n",
      "|  Male| 23|        445.48|       1134.69|            689.21|          451.8|        9873.19| 9421.390000000001|\n",
      "|Female| 24|        313.13|       1139.68| 826.5500000000001|        1047.24|       10719.56|           9672.32|\n",
      "|  Male| 24|       1070.38|       1070.38|               0.0|        7028.66|        7028.66|               0.0|\n",
      "|  Male| 25|        158.54|       1087.19| 928.6500000000001|          24.51|        5079.52|           5055.01|\n",
      "|Female| 25|        244.37|       1040.43| 796.0600000000001|        1378.43|        5618.03| 4239.599999999999|\n",
      "|  Male| 26|        133.42|       1110.09|            976.67|         163.49|         6420.3|           6256.81|\n",
      "|Female| 26|        136.59|        1124.3| 987.7099999999999|          81.31|        5438.46|           5357.15|\n",
      "|Female| 27|        247.64|       1139.68| 892.0400000000001|         658.26|        11396.8|10738.539999999999|\n",
      "|  Male| 27|        130.66|       1104.71| 974.0500000000001|         429.89|        8787.24|           8357.35|\n",
      "|Female| 28|        241.88|       1132.42| 890.5400000000001|        1043.82|        7628.99|           6585.17|\n",
      "|  Male| 28|        203.86|       1120.06| 916.1999999999999|         365.64|        5164.12|           4798.48|\n",
      "|  Male| 29|        235.51|       1040.26|            804.75|         898.91|        3085.78|2186.8700000000003|\n",
      "+------+---+--------------+--------------+------------------+---------------+---------------+------------------+\n",
      "only showing top 20 rows\n",
      "\n"
     ]
    }
   ],
   "source": [
    "grouped_data_gender_age = filtered_data.groupBy(\"gender\", \"age\").agg(\n",
    "    min('unit_price').alias('min_unit_price'),\n",
    "    max('unit_price').alias('max_unit_price'),\n",
    "    (max('unit_price') - min('unit_price')).alias('unit_price_diff'),\n",
    "    min('total_price').alias('min_total_price'),\n",
    "    max('total_price').alias('max_total_price'),\n",
    "    (max('total_price') - min('total_price')).alias('total_price_diff')\n",
    ").orderBy('age')\n",
    "grouped_data_gender_age.show()"
   ]
  },
  {
   "cell_type": "code",
   "execution_count": 59,
   "metadata": {},
   "outputs": [
    {
     "data": {
      "text/plain": [
       "[Row(gender='Female', min_unit_price=124.84, max_unit_price=1139.68, unit_price_diff=1014.84, min_total_price=22.08, max_total_price=11396.8, total_price_diff=11374.72),\n",
       " Row(gender='Male', min_unit_price=124.47, max_unit_price=1139.66, unit_price_diff=1015.19, min_total_price=22.63, max_total_price=11396.8, total_price_diff=11374.17)]"
      ]
     },
     "execution_count": 59,
     "metadata": {},
     "output_type": "execute_result"
    }
   ],
   "source": [
    "aggregated_data_gender = grouped_data_gender.collect()\n",
    "aggregated_data_age = grouped_data_age.collect()\n",
    "aggregated_data_gender_age = grouped_data_gender_age.collect()\n",
    "\n",
    "aggregated_data_gender"
   ]
  },
  {
   "cell_type": "code",
   "execution_count": 61,
   "metadata": {},
   "outputs": [
    {
     "data": {
      "text/plain": [
       "0.058648109436035156"
      ]
     },
     "execution_count": 61,
     "metadata": {},
     "output_type": "execute_result"
    }
   ],
   "source": [
    "start_time = time.time()\n",
    "grouped_data_gender.collect()\n",
    "grouped_data_age.collect()\n",
    "grouped_data_gender_age.collect()\n",
    "no_cache_time = time.time() - start_time\n",
    "\n",
    "no_cache_time"
   ]
  },
  {
   "cell_type": "code",
   "execution_count": 63,
   "metadata": {},
   "outputs": [],
   "source": [
    "spark.sparkContext.setCheckpointDir(\"/Users/tmanspace/Files/test\")"
   ]
  },
  {
   "cell_type": "code",
   "execution_count": 64,
   "metadata": {},
   "outputs": [
    {
     "name": "stderr",
     "output_type": "stream",
     "text": [
      "24/12/01 22:04:21 WARN CacheManager: Asked to cache already cached data.\n"
     ]
    },
    {
     "data": {
      "text/plain": [
       "DataFrame[customer_id: int, age: int, gender: string, loyalty_member: string, product_type: string, sku: string, rating: int, order_status: string, payment_method: string, total_price: double, unit_price: double, quantity: int, purchase_date: timestamp, shipping_type: string, addons: string, addons_cnt: double]"
      ]
     },
     "execution_count": 64,
     "metadata": {},
     "output_type": "execute_result"
    }
   ],
   "source": [
    "filtered_data.cache()\n",
    "filtered_data.checkpoint()"
   ]
  },
  {
   "cell_type": "code",
   "execution_count": 81,
   "metadata": {},
   "outputs": [
    {
     "data": {
      "text/plain": [
       "0.054679155349731445"
      ]
     },
     "execution_count": 81,
     "metadata": {},
     "output_type": "execute_result"
    }
   ],
   "source": [
    "start_time = time.time()\n",
    "grouped_data_gender.collect()\n",
    "grouped_data_age.collect()\n",
    "grouped_data_gender_age.collect()\n",
    "cache_time = time.time() - start_time\n",
    "\n",
    "cache_time"
   ]
  },
  {
   "cell_type": "code",
   "execution_count": 82,
   "metadata": {},
   "outputs": [
    {
     "name": "stdout",
     "output_type": "stream",
     "text": [
      "Время без кэширования: 0.0586 секунд\n",
      "Время с кэшированием: 0.0547 секунд\n"
     ]
    }
   ],
   "source": [
    "print(f\"Время без кэширования: {no_cache_time:.4f} секунд\")\n",
    "print(f\"Время с кэшированием: {cache_time:.4f} секунд\")"
   ]
  },
  {
   "cell_type": "code",
   "execution_count": 85,
   "metadata": {},
   "outputs": [
    {
     "name": "stdout",
     "output_type": "stream",
     "text": [
      "Агрегированные данные по возрасту:\n",
      "Row(age=19, min_unit_price=694.62, max_unit_price=1101.17, unit_price_diff=406.55000000000007, min_total_price=221.86, max_total_price=10610.57, total_price_diff=10388.71)\n",
      "Row(age=20, min_unit_price=127.14, max_unit_price=1116.98, unit_price_diff=989.84, min_total_price=71.53, max_total_price=6785.45, total_price_diff=6713.92)\n",
      "Row(age=21, min_unit_price=181.03, max_unit_price=1137.69, unit_price_diff=956.6600000000001, min_total_price=629.43, max_total_price=8136.03, total_price_diff=7506.599999999999)\n",
      "Row(age=22, min_unit_price=138.85, max_unit_price=1134.4, unit_price_diff=995.5500000000001, min_total_price=404.4, max_total_price=7863.89, total_price_diff=7459.490000000001)\n",
      "Row(age=23, min_unit_price=124.84, max_unit_price=1134.69, unit_price_diff=1009.85, min_total_price=29.36, max_total_price=9873.19, total_price_diff=9843.83)\n"
     ]
    }
   ],
   "source": [
    "print(\"Агрегированные данные по возрасту:\")\n",
    "for row in aggregated_data_age[:5]:\n",
    "    print(row)"
   ]
  }
 ],
 "metadata": {
  "kernelspec": {
   "display_name": "venv",
   "language": "python",
   "name": "python3"
  },
  "language_info": {
   "codemirror_mode": {
    "name": "ipython",
    "version": 3
   },
   "file_extension": ".py",
   "mimetype": "text/x-python",
   "name": "python",
   "nbconvert_exporter": "python",
   "pygments_lexer": "ipython3",
   "version": "3.12.4"
  }
 },
 "nbformat": 4,
 "nbformat_minor": 2
}
