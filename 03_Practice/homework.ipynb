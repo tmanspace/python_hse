{
 "cells": [
  {
   "cell_type": "code",
   "execution_count": 35,
   "metadata": {},
   "outputs": [],
   "source": [
    "from dataclasses import dataclass, field\n",
    "from datetime import datetime\n",
    "from enum import Enum\n",
    "import uuid\n",
    "\n",
    "\n",
    "class TransactionType(Enum):\n",
    "    DEPOSIT = \"Депозит\"\n",
    "    WITHDRAW = \"Снятие\"\n",
    "    INITIAL = \"Начальный\"\n",
    "    CANCELATION = \"Отмена\"\n",
    "\n",
    "\n",
    "@dataclass\n",
    "class Transaction:\n",
    "    \"\"\"Объект транзакции\"\"\"\n",
    "    transaction_id: str = field(default_factory=lambda: str(uuid.uuid4()))  \n",
    "    operation: TransactionType = TransactionType.INITIAL\n",
    "    amount: float = 0.0\n",
    "    date: datetime = field(default_factory=datetime.now)\n",
    "    balance_after: float = 0.0\n",
    "\n",
    "    def __str__(self):\n",
    "        return f\"{self.date.strftime('%Y-%m-%d %H:%M:%S')} - {self.operation.value.capitalize()} - {self.amount} - Баланс: {self.balance_after}\"\n",
    "\n",
    "\n",
    "@dataclass\n",
    "class OperationResult:\n",
    "    \"\"\"Результат операции\"\"\"\n",
    "    transaction_id: str\n",
    "    balance_after: float \n",
    "    message: str \n",
    "\n",
    "    def __str__(self):\n",
    "        return f\"ID транзакции: {self.transaction_id} | Баланс: {self.balance_after} | {self.message}\""
   ]
  },
  {
   "cell_type": "code",
   "execution_count": 36,
   "metadata": {},
   "outputs": [],
   "source": [
    "\n",
    "class Account:\n",
    "\n",
    "    def __init__(self, name: str, initial_balance: float = 0.0):\n",
    "        self.name = name\n",
    "        self.__balance = initial_balance\n",
    "        self._transactions: list[Transaction] = []\n",
    "        self._add_transaction(TransactionType.INITIAL, initial_balance)\n",
    "\n",
    "    def __str__(self) -> str:\n",
    "        return f'Банковский аккаунт пользователя: {self.name} – ООО «ТеймуразБанкОфишиалОфшорПроПлюсФайненшалПартрнершип»'\n",
    "    \n",
    "    def __repr__(self) -> str:\n",
    "        return str(self)\n",
    "\n",
    "    def deposit(self, amount: float) -> OperationResult:\n",
    "        if amount <= 0:\n",
    "            return OperationResult('', self.__balance, 'Нельзя добавить отрицательное значение.')\n",
    "        self.__balance += amount\n",
    "        transaction = self._add_transaction(TransactionType.DEPOSIT, amount)\n",
    "        return OperationResult(transaction.transaction_id, self.__balance, f'{amount} успешно зачислены на счет.')\n",
    "    \n",
    "    def cancelation(self, amount: float, transaction_type: TransactionType) -> OperationResult:\n",
    "        if amount <= 0:\n",
    "            return OperationResult('', self.__balance, 'Нельзя использовать отрицательное значение.')\n",
    "        msg = ''\n",
    "        if transaction_type == TransactionType.DEPOSIT:\n",
    "            self.__balance -= amount\n",
    "            msg = '{amount} – были сняты со счета в счет отмены операции.'\n",
    "        elif transaction_type == TransactionType.WITHDRAW:\n",
    "            self.__balance += amount\n",
    "            msg = '{amount} – были возвращены на счет из-за отмены операции.'\n",
    "        transaction = self._add_transaction(TransactionType.CANCELATION, amount)\n",
    "        return OperationResult(transaction.transaction_id, self.__balance, msg)\n",
    "\n",
    "    def withdraw(self, amount: float) -> OperationResult:\n",
    "        if amount <= 0:\n",
    "            return OperationResult('', self.__balance, 'Нельзя снять отрицательное значение.')\n",
    "        if self.__balance < amount:\n",
    "            return OperationResult('', self.__balance, 'Нет средств для проведения операции.')\n",
    "        self.__balance -= amount\n",
    "        transaction = self._add_transaction(TransactionType.WITHDRAW, amount)\n",
    "        return OperationResult(transaction.transaction_id, self.__balance, f'{amount} успешно сняты со счета.')\n",
    "\n",
    "    def _add_transaction(self, operation: TransactionType, amount: float) -> Transaction:\n",
    "        new_transaction = Transaction(operation=operation, amount=amount, balance_after=self.__balance)\n",
    "        self._transactions.append(new_transaction)\n",
    "        return new_transaction\n",
    "\n",
    "    def show_history(self, filter_by: TransactionType | None = None) -> str:\n",
    "        '''\n",
    "        filter_by: тип транзакции (DEPOSIT, WITHDRAW) или None для отображения всех операций.\n",
    "        '''\n",
    "        history = [f'История транзакций для {self.name}']\n",
    "        if filter_by:\n",
    "            filtered_transactions = [t for t in self._transactions if t.operation == filter_by]\n",
    "        else:\n",
    "            filtered_transactions = self._transactions\n",
    "\n",
    "        if not filtered_transactions:\n",
    "            return 'История транзакций пуста.'\n",
    "\n",
    "        history.extend([str(transaction) for transaction in filtered_transactions])\n",
    "        return '\\n'.join(history)\n",
    "\n",
    "    def summary(self) -> str:\n",
    "        deposits = sum(t.amount for t in self._transactions if t.operation == TransactionType.DEPOSIT)\n",
    "        withdrawals = sum(t.amount for t in self._transactions if t.operation == TransactionType.WITHDRAW)\n",
    "        summary_lines = [\n",
    "            f'Данные об аккаунте: {self.name}',\n",
    "            f'Всего зачислено: {deposits}',\n",
    "            f'Всего снято: {withdrawals}',\n",
    "            f'Нынешний баланс: {self.__balance}'\n",
    "        ]\n",
    "        return '\\n'.join(summary_lines)\n",
    "\n",
    "    def get_balance(self) -> float:\n",
    "        return self.__balance\n",
    "\n",
    "    def set_balance(self, amount: float) -> str:\n",
    "        return 'Нельзя изменить баланс без совершения операции.'\n",
    "\n",
    "    def cancel_transaction(self, transaction_id: str) -> OperationResult:\n",
    "        for transaction in self._transactions:\n",
    "            if transaction.transaction_id == transaction_id:\n",
    "                cancelation_transaction = self.cancelation(transaction.amount, transaction_type=transaction.operation)\n",
    "                return OperationResult(cancelation_transaction.transaction_id, self.__balance, f'Транзакция {transaction_id} ({transaction.operation.value}) была отменена.')\n",
    "        return OperationResult('', self.__balance, 'Транзакция не найдена.')"
   ]
  },
  {
   "cell_type": "code",
   "execution_count": 37,
   "metadata": {},
   "outputs": [
    {
     "data": {
      "text/plain": [
       "Банковский аккаунт пользователя: Роман Абрамович – ООО «ТеймуразБанкОфишиалОфшорПроПлюсФайненшалПартрнершип»"
      ]
     },
     "execution_count": 37,
     "metadata": {},
     "output_type": "execute_result"
    }
   ],
   "source": [
    "acc = Account('Роман Абрамович', 500)  # Создаем аккаунт с начальным балансом 500\n",
    "acc"
   ]
  },
  {
   "cell_type": "code",
   "execution_count": 38,
   "metadata": {},
   "outputs": [
    {
     "name": "stdout",
     "output_type": "stream",
     "text": [
      "ID транзакции: 221e19cf-8125-4f18-abeb-c92a41aba01d | Баланс: 700 | 200 успешно зачислены на счет.\n"
     ]
    }
   ],
   "source": [
    "result1 = acc.deposit(200)\n",
    "print(result1)"
   ]
  },
  {
   "cell_type": "code",
   "execution_count": 39,
   "metadata": {},
   "outputs": [
    {
     "name": "stdout",
     "output_type": "stream",
     "text": [
      "ID транзакции: e8dc0b0a-1949-4417-b293-1e19ea5022ba | Баланс: 600 | 100 успешно сняты со счета.\n"
     ]
    }
   ],
   "source": [
    "result2 = acc.withdraw(100)\n",
    "print(result2)"
   ]
  },
  {
   "cell_type": "code",
   "execution_count": 40,
   "metadata": {},
   "outputs": [
    {
     "name": "stdout",
     "output_type": "stream",
     "text": [
      "История транзакций для Роман Абрамович\n",
      "2024-10-05 23:12:03 - Начальный - 500 - Баланс: 500\n",
      "2024-10-05 23:12:03 - Депозит - 200 - Баланс: 700\n",
      "2024-10-05 23:12:03 - Снятие - 100 - Баланс: 600\n"
     ]
    }
   ],
   "source": [
    "print(acc.show_history())"
   ]
  },
  {
   "cell_type": "code",
   "execution_count": 41,
   "metadata": {},
   "outputs": [
    {
     "name": "stdout",
     "output_type": "stream",
     "text": [
      "Данные об аккаунте: Роман Абрамович\n",
      "Всего зачислено: 200\n",
      "Всего снято: 100\n",
      "Нынешний баланс: 600\n"
     ]
    }
   ],
   "source": [
    "print(acc.summary())"
   ]
  },
  {
   "cell_type": "code",
   "execution_count": 42,
   "metadata": {},
   "outputs": [
    {
     "name": "stdout",
     "output_type": "stream",
     "text": [
      "Отмена транзакции: e8dc0b0a-1949-4417-b293-1e19ea5022ba\n",
      "ID транзакции: e980eedb-9885-42f8-b086-27dc92334160 | Баланс: 700 | Транзакция e8dc0b0a-1949-4417-b293-1e19ea5022ba (Снятие) была отменена.\n"
     ]
    }
   ],
   "source": [
    "transaction_id = result2.transaction_id\n",
    "print(f'Отмена транзакции: {transaction_id}')\n",
    "cancel_result = acc.cancel_transaction(transaction_id)\n",
    "print(cancel_result)"
   ]
  },
  {
   "cell_type": "code",
   "execution_count": 43,
   "metadata": {},
   "outputs": [
    {
     "name": "stdout",
     "output_type": "stream",
     "text": [
      "История после отмены транзакции:\n",
      "История транзакций для Роман Абрамович\n",
      "2024-10-05 23:12:03 - Начальный - 500 - Баланс: 500\n",
      "2024-10-05 23:12:03 - Депозит - 200 - Баланс: 700\n",
      "2024-10-05 23:12:03 - Снятие - 100 - Баланс: 600\n",
      "2024-10-05 23:12:03 - Отмена - 100 - Баланс: 700\n"
     ]
    }
   ],
   "source": [
    "print('История после отмены транзакции:')\n",
    "print(acc.show_history())"
   ]
  },
  {
   "cell_type": "code",
   "execution_count": null,
   "metadata": {},
   "outputs": [],
   "source": []
  }
 ],
 "metadata": {
  "kernelspec": {
   "display_name": "base",
   "language": "python",
   "name": "python3"
  },
  "language_info": {
   "codemirror_mode": {
    "name": "ipython",
    "version": 3
   },
   "file_extension": ".py",
   "mimetype": "text/x-python",
   "name": "python",
   "nbconvert_exporter": "python",
   "pygments_lexer": "ipython3",
   "version": "3.12.4"
  }
 },
 "nbformat": 4,
 "nbformat_minor": 2
}
