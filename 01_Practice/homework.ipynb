{
 "cells": [
  {
   "cell_type": "code",
   "execution_count": 30,
   "metadata": {},
   "outputs": [],
   "source": [
    "from json import loads\n",
    "from csv import reader, writer, QUOTE_MINIMAL"
   ]
  },
  {
   "cell_type": "code",
   "execution_count": 31,
   "metadata": {},
   "outputs": [],
   "source": [
    "FUNNEL_PATH: str = 'src/funnel.csv'\n",
    "PURCHASE_SRC: str = 'src/purchase_log.txt'\n",
    "COLS = 3"
   ]
  },
  {
   "cell_type": "code",
   "execution_count": 32,
   "metadata": {},
   "outputs": [],
   "source": [
    "def get_purchases(src: str):\n",
    "    temp = {}\n",
    "    with open(src, 'r') as f:\n",
    "        f.readline()\n",
    "        for line in f:\n",
    "            row = loads(line)\n",
    "            temp[row['user_id']] = row['category']\n",
    "    return temp\n",
    "\n",
    "def print_n_first_dict_items(data: dict, number: int = 3):\n",
    "    for k, v in data.items():\n",
    "        if not number:\n",
    "            return\n",
    "        print(k, v)\n",
    "        number -= 1\n",
    "\n",
    "def print_first_n_strokes_csv_as_str(src: str, number: int = 3, delimeter: str = ','):\n",
    "     with open(src, encoding='utf-8') as f:\n",
    "        funnel = reader(f, delimiter=';', quotechar='|')\n",
    "        for row in funnel:\n",
    "            print(','.join(row))\n",
    "            number -= 1\n",
    "            if not number: return\n",
    "\n",
    "\n",
    "def print_first_n_strokes_csv(src: str, number: int = 3):\n",
    "     with open(src, encoding='utf-8') as f:\n",
    "        funnel = reader(f, delimiter=';', quotechar='|')\n",
    "        for row in funnel:\n",
    "            print(*row)\n",
    "            number -= 1\n",
    "            if not number: return"
   ]
  },
  {
   "cell_type": "code",
   "execution_count": 33,
   "metadata": {},
   "outputs": [
    {
     "name": "stdout",
     "output_type": "stream",
     "text": [
      "1840e0b9d4 Продукты\n",
      "4e4f90fcfb Электроника\n",
      "afea8d72fc Электроника\n"
     ]
    }
   ],
   "source": [
    "purchases: dict[str, str] = get_purchases('src/purchase_log.txt')\n",
    "print_n_first_dict_items(purchases)"
   ]
  },
  {
   "cell_type": "code",
   "execution_count": 34,
   "metadata": {},
   "outputs": [],
   "source": [
    "funnel_f = open(FUNNEL_PATH, 'w', encoding='utf-8')\n",
    "funnel_csv = writer(funnel_f, delimiter=';', quotechar='|', quoting=QUOTE_MINIMAL)\n",
    "\n",
    "with open('src/visit_log.csv', encoding='utf-8', newline='') as csvfile:\n",
    "    visit_log = reader(csvfile, delimiter=';', quotechar='|')\n",
    "\n",
    "    row = next(visit_log)\n",
    "    row[2] = 'category'\n",
    "    funnel_csv.writerow(row[:COLS])\n",
    "\n",
    "    for row in visit_log:\n",
    "        category =  purchases.get(row[0], None)\n",
    "        if category:\n",
    "            row[2] = category\n",
    "            funnel_csv.writerow(row[:COLS])\n",
    "\n",
    "funnel_f.close()"
   ]
  },
  {
   "cell_type": "code",
   "execution_count": 35,
   "metadata": {},
   "outputs": [
    {
     "name": "stdout",
     "output_type": "stream",
     "text": [
      "user_id,source,category\n",
      "1840e0b9d4,other,Продукты\n",
      "4e4f90fcfb,context,Электроника\n"
     ]
    }
   ],
   "source": [
    "print_first_n_strokes_csv_as_str(FUNNEL_PATH)"
   ]
  },
  {
   "cell_type": "code",
   "execution_count": 36,
   "metadata": {},
   "outputs": [
    {
     "name": "stdout",
     "output_type": "stream",
     "text": [
      "user_id source category\n",
      "1840e0b9d4 other Продукты\n",
      "4e4f90fcfb context Электроника\n"
     ]
    }
   ],
   "source": [
    "print_first_n_strokes_csv(FUNNEL_PATH)"
   ]
  }
 ],
 "metadata": {
  "kernelspec": {
   "display_name": "venv",
   "language": "python",
   "name": "python3"
  },
  "language_info": {
   "codemirror_mode": {
    "name": "ipython",
    "version": 3
   },
   "file_extension": ".py",
   "mimetype": "text/x-python",
   "name": "python",
   "nbconvert_exporter": "python",
   "pygments_lexer": "ipython3",
   "version": "3.12.4"
  }
 },
 "nbformat": 4,
 "nbformat_minor": 2
}
